{
 "cells": [
  {
   "cell_type": "code",
   "execution_count": 3,
   "metadata": {},
   "outputs": [
    {
     "name": "stdout",
     "output_type": "stream",
     "text": [
      "+---------+-----------+---------+--------------------+----+------+------+\n",
      "|Area Code|       Area|Item Code|                Item|Year|  Unit| Value|\n",
      "+---------+-----------+---------+--------------------+----+------+------+\n",
      "|        2|Afghanistan|       30|Rice, paddy (rice...|1961|tonnes|212773|\n",
      "|        2|Afghanistan|       30|Rice, paddy (rice...|1962|tonnes|212773|\n",
      "|        2|Afghanistan|       30|Rice, paddy (rice...|1963|tonnes|212773|\n",
      "|        2|Afghanistan|       30|Rice, paddy (rice...|1964|tonnes|253460|\n",
      "|        2|Afghanistan|       30|Rice, paddy (rice...|1965|tonnes|253460|\n",
      "|        2|Afghanistan|       30|Rice, paddy (rice...|1966|tonnes|224779|\n",
      "|        2|Afghanistan|       30|Rice, paddy (rice...|1967|tonnes|264132|\n",
      "|        2|Afghanistan|       30|Rice, paddy (rice...|1968|tonnes|268134|\n",
      "|        2|Afghanistan|       30|Rice, paddy (rice...|1969|tonnes|271469|\n",
      "|        2|Afghanistan|       30|Rice, paddy (rice...|1970|tonnes|244122|\n",
      "|        2|Afghanistan|       30|Rice, paddy (rice...|1971|tonnes|233450|\n",
      "|        2|Afghanistan|       30|Rice, paddy (rice...|1972|tonnes|266800|\n",
      "|        2|Afghanistan|       30|Rice, paddy (rice...|1973|tonnes|280140|\n",
      "|        2|Afghanistan|       30|Rice, paddy (rice...|1974|tonnes|280140|\n",
      "|        2|Afghanistan|       30|Rice, paddy (rice...|1975|tonnes|290145|\n",
      "|        2|Afghanistan|       30|Rice, paddy (rice...|1976|tonnes|298816|\n",
      "|        2|Afghanistan|       30|Rice, paddy (rice...|1977|tonnes|266800|\n",
      "|        2|Afghanistan|       30|Rice, paddy (rice...|1978|tonnes|285476|\n",
      "|        2|Afghanistan|       30|Rice, paddy (rice...|1979|tonnes|292813|\n",
      "|        2|Afghanistan|       30|Rice, paddy (rice...|1980|tonnes|276805|\n",
      "+---------+-----------+---------+--------------------+----+------+------+\n",
      "only showing top 20 rows\n",
      "\n"
     ]
    },
    {
     "data": {
      "text/plain": [
       "['Area Code', 'Area', 'Item Code', 'Item', 'Year', 'Unit', 'Value']"
      ]
     },
     "execution_count": 3,
     "metadata": {},
     "output_type": "execute_result"
    }
   ],
   "source": [
    "# Must be included at the beginning of each new notebook. Remember to change the app name.\n",
    "import findspark\n",
    "findspark.init('/home/ubuntu/spark-2.1.1-bin-hadoop2.7')\n",
    "import pyspark\n",
    "from pyspark.sql import SparkSession\n",
    "spark = SparkSession.builder.appName('basics').getOrCreate()\n",
    "\n",
    "df = spark.read.option(\"inferSchema\",\"true\").csv('Datasets/FAOSTAT_data_10-9-2020 (4).csv',header=True)\n",
    "\n",
    "df.show()\n",
    "\n",
    "df.columns"
   ]
  },
  {
   "cell_type": "code",
   "execution_count": 20,
   "metadata": {},
   "outputs": [
    {
     "name": "stdout",
     "output_type": "stream",
     "text": [
      "+-------+------------------+-----------+---------+--------------------+------------------+------+--------------------+\n",
      "|summary|         Area Code|       Area|Item Code|                Item|              Year|  Unit|               Value|\n",
      "+-------+------------------+-----------+---------+--------------------+------------------+------+--------------------+\n",
      "|  count|              6928|       6928|     6928|                6928|              6928|  6928|                6792|\n",
      "|   mean|124.40487875288683|       null|     30.0|                null|1990.3874133949191|  null|   3745550.433451119|\n",
      "| stddev|  75.1041693359182|       null|      0.0|                null|16.733908742773423|  null|1.6155710369189173E7|\n",
      "|    min|                 1|Afghanistan|       30|Rice, paddy (rice...|              1961|tonnes|                   0|\n",
      "|    max|               351|   Zimbabwe|       30|Rice, paddy (rice...|              2018|tonnes|           143024843|\n",
      "+-------+------------------+-----------+---------+--------------------+------------------+------+--------------------+\n",
      "\n"
     ]
    }
   ],
   "source": [
    "df.describe().show()"
   ]
  },
  {
   "cell_type": "code",
   "execution_count": 11,
   "metadata": {},
   "outputs": [
    {
     "name": "stdout",
     "output_type": "stream",
     "text": [
      "root\n",
      " |-- Area Code: string (nullable = true)\n",
      " |-- Area: string (nullable = true)\n",
      " |-- Item Code: string (nullable = true)\n",
      " |-- Item: string (nullable = true)\n",
      " |-- Year: string (nullable = true)\n",
      " |-- Unit: string (nullable = true)\n",
      " |-- Value: string (nullable = true)\n",
      "\n"
     ]
    }
   ],
   "source": [
    "df.printSchema()"
   ]
  },
  {
   "cell_type": "code",
   "execution_count": 28,
   "metadata": {},
   "outputs": [],
   "source": [
    "import matplotlib.pyplot as plt\n",
    "from mpl_toolkits.mplot3d import Axes3D"
   ]
  },
  {
   "cell_type": "code",
   "execution_count": 57,
   "metadata": {},
   "outputs": [],
   "source": [
    "from pyspark.sql import functions as F\n",
    "df_a = df.agg(*[F.count(F.when(F.isnull(c),c)).alias(c) for c in df.columns])"
   ]
  },
  {
   "cell_type": "code",
   "execution_count": 60,
   "metadata": {},
   "outputs": [
    {
     "name": "stdout",
     "output_type": "stream",
     "text": [
      "+---------+----+---------+----+----+----+-----+\n",
      "|Area Code|Area|Item Code|Item|Year|Unit|Value|\n",
      "+---------+----+---------+----+----+----+-----+\n",
      "|        0|   0|        0|   0|   0|   0|  136|\n",
      "+---------+----+---------+----+----+----+-----+\n",
      "\n"
     ]
    }
   ],
   "source": [
    "df_a.show()"
   ]
  },
  {
   "cell_type": "code",
   "execution_count": 59,
   "metadata": {},
   "outputs": [
    {
     "name": "stdout",
     "output_type": "stream",
     "text": [
      "+---------+-----------+---------+--------------------+----+------+------+\n",
      "|Area Code|       Area|Item Code|                Item|Year|  Unit| Value|\n",
      "+---------+-----------+---------+--------------------+----+------+------+\n",
      "|        2|Afghanistan|       30|Rice, paddy (rice...|1961|tonnes|212773|\n",
      "|        2|Afghanistan|       30|Rice, paddy (rice...|1962|tonnes|212773|\n",
      "|        2|Afghanistan|       30|Rice, paddy (rice...|1963|tonnes|212773|\n",
      "|        2|Afghanistan|       30|Rice, paddy (rice...|1964|tonnes|253460|\n",
      "|        2|Afghanistan|       30|Rice, paddy (rice...|1965|tonnes|253460|\n",
      "|        2|Afghanistan|       30|Rice, paddy (rice...|1966|tonnes|224779|\n",
      "|        2|Afghanistan|       30|Rice, paddy (rice...|1967|tonnes|264132|\n",
      "|        2|Afghanistan|       30|Rice, paddy (rice...|1968|tonnes|268134|\n",
      "|        2|Afghanistan|       30|Rice, paddy (rice...|1969|tonnes|271469|\n",
      "|        2|Afghanistan|       30|Rice, paddy (rice...|1970|tonnes|244122|\n",
      "|        2|Afghanistan|       30|Rice, paddy (rice...|1971|tonnes|233450|\n",
      "|        2|Afghanistan|       30|Rice, paddy (rice...|1972|tonnes|266800|\n",
      "|        2|Afghanistan|       30|Rice, paddy (rice...|1973|tonnes|280140|\n",
      "|        2|Afghanistan|       30|Rice, paddy (rice...|1974|tonnes|280140|\n",
      "|        2|Afghanistan|       30|Rice, paddy (rice...|1975|tonnes|290145|\n",
      "|        2|Afghanistan|       30|Rice, paddy (rice...|1976|tonnes|298816|\n",
      "|        2|Afghanistan|       30|Rice, paddy (rice...|1977|tonnes|266800|\n",
      "|        2|Afghanistan|       30|Rice, paddy (rice...|1978|tonnes|285476|\n",
      "|        2|Afghanistan|       30|Rice, paddy (rice...|1979|tonnes|292813|\n",
      "|        2|Afghanistan|       30|Rice, paddy (rice...|1980|tonnes|276805|\n",
      "+---------+-----------+---------+--------------------+----+------+------+\n",
      "only showing top 20 rows\n",
      "\n"
     ]
    }
   ],
   "source": [
    "df.na.drop().show()"
   ]
  },
  {
   "cell_type": "code",
   "execution_count": 61,
   "metadata": {},
   "outputs": [],
   "source": [
    "import pandas as pd\n",
    "import numpy as np\n",
    "\n",
    "df = df.dropna()"
   ]
  },
  {
   "cell_type": "code",
   "execution_count": null,
   "metadata": {},
   "outputs": [],
   "source": []
  },
  {
   "cell_type": "code",
   "execution_count": 1,
   "metadata": {},
   "outputs": [],
   "source": [
    "# Must be included at the beginning of each new notebook. Remember to change the app name.\n",
    "import findspark\n",
    "findspark.init('/home/ubuntu/spark-2.1.1-bin-hadoop2.7')\n",
    "import pyspark\n",
    "from pyspark.sql import SparkSession\n",
    "spark = SparkSession.builder.appName('linear_regression_adv').getOrCreate()\n",
    "\n",
    "# If you're getting an error with numpy, please type 'sudo pip install numpy --user' into the EC2 console.\n",
    "from pyspark.ml.regression import LinearRegression"
   ]
  },
  {
   "cell_type": "code",
   "execution_count": 4,
   "metadata": {},
   "outputs": [
    {
     "data": {
      "text/plain": [
       "Row(Area Code=2, Area='Afghanistan', Item Code=30, Item='Rice, paddy (rice milled equivalent)', Year=1961, Unit='tonnes', Value=212773)"
      ]
     },
     "execution_count": 4,
     "metadata": {},
     "output_type": "execute_result"
    }
   ],
   "source": [
    "df.head()"
   ]
  },
  {
   "cell_type": "code",
   "execution_count": 7,
   "metadata": {},
   "outputs": [],
   "source": [
    "# Import VectorAssembler and Vectors\n",
    "from pyspark.ml.linalg import Vectors\n",
    "from pyspark.ml.feature import VectorAssembler"
   ]
  },
  {
   "cell_type": "code",
   "execution_count": 62,
   "metadata": {},
   "outputs": [],
   "source": [
    "# The input columns are the feature column names, and the output column is what you'd like the new column to be named. \n",
    "assembler = VectorAssembler(\n",
    "    inputCols=[\"Year\", \n",
    "               \"Value\"],\n",
    "    outputCol=\"features\")"
   ]
  },
  {
   "cell_type": "code",
   "execution_count": 63,
   "metadata": {},
   "outputs": [],
   "source": [
    "output = assembler.transform(df)"
   ]
  },
  {
   "cell_type": "code",
   "execution_count": 64,
   "metadata": {},
   "outputs": [
    {
     "name": "stdout",
     "output_type": "stream",
     "text": [
      "root\n",
      " |-- Area Code: integer (nullable = true)\n",
      " |-- Area: string (nullable = true)\n",
      " |-- Item Code: integer (nullable = true)\n",
      " |-- Item: string (nullable = true)\n",
      " |-- Year: integer (nullable = true)\n",
      " |-- Unit: string (nullable = true)\n",
      " |-- Value: integer (nullable = true)\n",
      " |-- features: vector (nullable = true)\n",
      "\n"
     ]
    },
    {
     "data": {
      "text/plain": [
       "[Row(Area Code=2, Area='Afghanistan', Item Code=30, Item='Rice, paddy (rice milled equivalent)', Year=1961, Unit='tonnes', Value=212773, features=DenseVector([1961.0, 212773.0]))]"
      ]
     },
     "execution_count": 64,
     "metadata": {},
     "output_type": "execute_result"
    }
   ],
   "source": [
    "output.printSchema()\n",
    "output.head(1)"
   ]
  },
  {
   "cell_type": "code",
   "execution_count": null,
   "metadata": {},
   "outputs": [],
   "source": [
    "final_data = output.select(\"features\",'Value')\n",
    "final_data.show()"
   ]
  },
  {
   "cell_type": "code",
   "execution_count": 74,
   "metadata": {},
   "outputs": [],
   "source": [
    "train_data,test_data = final_data.randomSplit([0.7,0.3])"
   ]
  },
  {
   "cell_type": "code",
   "execution_count": 75,
   "metadata": {},
   "outputs": [
    {
     "name": "stdout",
     "output_type": "stream",
     "text": [
      "+-------+--------------------+\n",
      "|summary|               Value|\n",
      "+-------+--------------------+\n",
      "|  count|                4685|\n",
      "|   mean|  3636518.0104589113|\n",
      "| stddev|1.5866126040922618E7|\n",
      "|    min|                   0|\n",
      "|    max|           143024843|\n",
      "+-------+--------------------+\n",
      "\n",
      "+-------+-------------------+\n",
      "|summary|              Value|\n",
      "+-------+-------------------+\n",
      "|  count|               2107|\n",
      "|   mean|  3987988.450403417|\n",
      "| stddev|1.678302685204894E7|\n",
      "|    min|                  0|\n",
      "|    max|          141858745|\n",
      "+-------+-------------------+\n",
      "\n"
     ]
    }
   ],
   "source": [
    "\n",
    "train_data.describe().show()\n",
    "\n",
    "# And our testing data.\n",
    "test_data.describe().show()"
   ]
  },
  {
   "cell_type": "code",
   "execution_count": 76,
   "metadata": {},
   "outputs": [],
   "source": [
    "lr = LinearRegression(labelCol=\"Value\")"
   ]
  },
  {
   "cell_type": "code",
   "execution_count": 77,
   "metadata": {},
   "outputs": [
    {
     "name": "stdout",
     "output_type": "stream",
     "text": [
      "Coefficients: [-1.2832395156915681e-11,1.0000000000000002] Intercept: 2.4559663062424133e-08\n"
     ]
    }
   ],
   "source": [
    "lrModel = lr.fit(train_data)\n",
    "print(\"Coefficients: {} Intercept: {}\".format(lrModel.coefficients,lrModel.intercept))"
   ]
  },
  {
   "cell_type": "code",
   "execution_count": 78,
   "metadata": {},
   "outputs": [],
   "source": [
    "test_results = lrModel.evaluate(test_data)"
   ]
  },
  {
   "cell_type": "code",
   "execution_count": 79,
   "metadata": {},
   "outputs": [
    {
     "name": "stdout",
     "output_type": "stream",
     "text": [
      "+--------------------+\n",
      "|           residuals|\n",
      "+--------------------+\n",
      "|6.046434464224149...|\n",
      "|6.04586603003554E-10|\n",
      "|6.04586603003554E-10|\n",
      "|6.041318556526676...|\n",
      "|6.041318556526676...|\n",
      "|6.041318556526676...|\n",
      "|6.043592293281108...|\n",
      "|6.043592293281108...|\n",
      "|6.043592293281108...|\n",
      "|6.043592293281108...|\n",
      "|6.020854925736785...|\n",
      "|6.020854925736785...|\n",
      "|6.020854925736785...|\n",
      "|6.020854925736785...|\n",
      "|6.020854925736785...|\n",
      "|6.020854925736785...|\n",
      "|6.002665031701326...|\n",
      "|6.002665031701326...|\n",
      "|6.002665031701326...|\n",
      "|6.002665031701326...|\n",
      "+--------------------+\n",
      "only showing top 20 rows\n",
      "\n",
      "RSME: 3.981915738057245e-09\n"
     ]
    }
   ],
   "source": [
    "test_results.residuals.show()\n",
    "\n",
    "# Let's get some evaluation metrics (as discussed in the previous linear regression notebook).\n",
    "print(\"RSME: {}\".format(test_results.rootMeanSquaredError))"
   ]
  },
  {
   "cell_type": "code",
   "execution_count": 80,
   "metadata": {},
   "outputs": [
    {
     "name": "stdout",
     "output_type": "stream",
     "text": [
      "R2: 1.0\n"
     ]
    }
   ],
   "source": [
    "# We can also get the R2 value. \n",
    "print(\"R2: {}\".format(test_results.r2))"
   ]
  },
  {
   "cell_type": "code",
   "execution_count": 81,
   "metadata": {},
   "outputs": [
    {
     "name": "stdout",
     "output_type": "stream",
     "text": [
      "+-------+--------------------+\n",
      "|summary|               Value|\n",
      "+-------+--------------------+\n",
      "|  count|                6792|\n",
      "|   mean|   3745550.433451119|\n",
      "| stddev|1.6155710369189173E7|\n",
      "|    min|                   0|\n",
      "|    max|           143024843|\n",
      "+-------+--------------------+\n",
      "\n"
     ]
    }
   ],
   "source": [
    "final_data.describe().show()"
   ]
  },
  {
   "cell_type": "code",
   "execution_count": null,
   "metadata": {},
   "outputs": [],
   "source": []
  }
 ],
 "metadata": {
  "kernelspec": {
   "display_name": "Python 3",
   "language": "python",
   "name": "python3"
  },
  "language_info": {
   "codemirror_mode": {
    "name": "ipython",
    "version": 3
   },
   "file_extension": ".py",
   "mimetype": "text/x-python",
   "name": "python",
   "nbconvert_exporter": "python",
   "pygments_lexer": "ipython3",
   "version": "3.5.2"
  }
 },
 "nbformat": 4,
 "nbformat_minor": 2
}
